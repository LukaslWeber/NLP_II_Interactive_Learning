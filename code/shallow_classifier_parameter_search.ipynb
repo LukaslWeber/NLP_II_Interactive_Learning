{
 "cells": [
  {
   "cell_type": "code",
   "id": "initial_id",
   "metadata": {
    "collapsed": true,
    "ExecuteTime": {
     "end_time": "2025-01-12T14:39:38.027301Z",
     "start_time": "2025-01-12T14:39:38.018Z"
    }
   },
   "source": [
    "from sklearn.model_selection import GridSearchCV, cross_val_score, StratifiedKFold\n",
    "from sklearn.linear_model import LogisticRegression\n",
    "from sklearn.metrics import make_scorer, accuracy_score\n",
    "import numpy as np\n",
    "from utils import load_MNIST\n",
    "import warnings\n",
    "from sklearn.exceptions import ConvergenceWarning\n",
    "\n",
    "warnings.filterwarnings('ignore', category=FutureWarning)\n",
    "warnings.filterwarnings(\"ignore\", category=ConvergenceWarning)"
   ],
   "outputs": [],
   "execution_count": 25
  },
  {
   "metadata": {
    "ExecuteTime": {
     "end_time": "2025-01-12T14:39:38.041585Z",
     "start_time": "2025-01-12T14:39:38.033834Z"
    }
   },
   "cell_type": "code",
   "source": "RANDOM_SEED = 42",
   "id": "8a3a77109a2c7f91",
   "outputs": [],
   "execution_count": 26
  },
  {
   "metadata": {},
   "cell_type": "markdown",
   "source": "Define the parameter grid: This is done in a vertain way because certain solvers are only compatible with certain regularization methods! E.g. LBFGS is only compatible without regularization or L2. ",
   "id": "6e973dd1f901412c"
  },
  {
   "metadata": {
    "ExecuteTime": {
     "end_time": "2025-01-12T14:39:38.067304Z",
     "start_time": "2025-01-12T14:39:38.049621Z"
    }
   },
   "cell_type": "code",
   "source": [
    "C_options = [0.01, 0.1, 1.0, 10.0]\n",
    "tol_options = [1e-4, 1e-3]\n",
    "max_iter_options = [50, 100, 200, 500]\n",
    "param_grid = [\n",
    "    {\"solver\": \n",
    "         [\"sag\", \"lbfgs\", \"newton-cg\"], \"penalty\": [\"l2\"], \"C\": C_options, \"tol\": tol_options, \"max_iter\": max_iter_options},\n",
    "    {\"solver\": \n",
    "         [\"liblinear\"], \"penalty\": [\"l1\", \"l2\"], \"C\": C_options, \"tol\": tol_options, \"max_iter\": max_iter_options},\n",
    "    {\"solver\": \n",
    "         [\"saga\"], \"penalty\": [\"l1\", \"l2\", \"elasticnet\"], \"C\": C_options, \"tol\": tol_options, \"max_iter\": max_iter_options, \"l1_ratio\": [0.25, 0.5, 0.75]},\n",
    "]"
   ],
   "id": "d2c76dc47c3be7a",
   "outputs": [],
   "execution_count": 27
  },
  {
   "metadata": {
    "ExecuteTime": {
     "end_time": "2025-01-12T14:39:38.084449Z",
     "start_time": "2025-01-12T14:39:38.067304Z"
    }
   },
   "cell_type": "code",
   "source": [
    "# Cross-validation settings\n",
    "cv = StratifiedKFold(n_splits=5, shuffle=True, random_state=42)\n",
    "\n",
    "# Create the Logistic Regression model\n",
    "log_reg = LogisticRegression(multi_class='auto', random_state=RANDOM_SEED)\n",
    "\n",
    "# Setup GridSearchCV\n",
    "grid_search = GridSearchCV(\n",
    "    estimator=log_reg,\n",
    "    param_grid=param_grid,\n",
    "    scoring=make_scorer(accuracy_score),\n",
    "    cv=cv,\n",
    "    verbose=1,\n",
    "    n_jobs=-1\n",
    ")"
   ],
   "id": "e552e1ca234069c6",
   "outputs": [],
   "execution_count": 28
  },
  {
   "metadata": {},
   "cell_type": "markdown",
   "source": "Loading MNIST",
   "id": "ef23d3467c9b865f"
  },
  {
   "metadata": {
    "ExecuteTime": {
     "end_time": "2025-01-12T14:39:43.130437Z",
     "start_time": "2025-01-12T14:39:38.084449Z"
    }
   },
   "cell_type": "code",
   "source": "_, _, X_test, y_test, X_val, y_val, _, _ = load_MNIST(random_seed=RANDOM_SEED)",
   "id": "1123b1efb2e5f275",
   "outputs": [],
   "execution_count": 29
  },
  {
   "metadata": {
    "jupyter": {
     "is_executing": true
    },
    "ExecuteTime": {
     "start_time": "2025-01-12T14:39:43.130437Z"
    }
   },
   "cell_type": "code",
   "source": [
    "# Perform grid search\n",
    "grid_search.fit(X_val, y_val)\n",
    "\n",
    "# Output the best parameters and corresponding score\n",
    "print(\"Best Parameters:\", grid_search.best_params_)\n",
    "print(\"Best Cross-Validation Accuracy:\", grid_search.best_score_)\n",
    "\n",
    "# Evaluate the best model on the test set\n",
    "best_model = grid_search.best_estimator_\n",
    "test_accuracy = best_model.score(X_test, y_test)\n",
    "print(\"Test Accuracy with Best Model:\", test_accuracy)"
   ],
   "id": "b4fcc4707d21a2be",
   "outputs": [
    {
     "name": "stdout",
     "output_type": "stream",
     "text": [
      "Fitting 5 folds for each of 448 candidates, totalling 2240 fits\n"
     ]
    }
   ],
   "execution_count": null
  }
 ],
 "metadata": {
  "kernelspec": {
   "display_name": "Python 3",
   "language": "python",
   "name": "python3"
  },
  "language_info": {
   "codemirror_mode": {
    "name": "ipython",
    "version": 2
   },
   "file_extension": ".py",
   "mimetype": "text/x-python",
   "name": "python",
   "nbconvert_exporter": "python",
   "pygments_lexer": "ipython2",
   "version": "2.7.6"
  }
 },
 "nbformat": 4,
 "nbformat_minor": 5
}
