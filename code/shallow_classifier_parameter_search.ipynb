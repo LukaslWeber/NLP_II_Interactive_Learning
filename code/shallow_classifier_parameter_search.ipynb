{
 "cells": [
  {
   "cell_type": "code",
   "execution_count": 1,
   "id": "initial_id",
   "metadata": {
    "ExecuteTime": {
     "end_time": "2025-01-16T19:29:19.895152Z",
     "start_time": "2025-01-16T19:28:00.456406Z"
    }
   },
   "outputs": [],
   "source": [
    "from sklearn.model_selection import GridSearchCV, cross_val_score, StratifiedKFold\n",
    "from sklearn.linear_model import LogisticRegression\n",
    "from sklearn.metrics import make_scorer, accuracy_score\n",
    "import numpy as np\n",
    "from utils import load_MNIST, save_file\n",
    "import warnings\n",
    "from sklearn.exceptions import ConvergenceWarning\n",
    "\n",
    "warnings.filterwarnings('ignore', category=FutureWarning)\n",
    "warnings.filterwarnings(\"ignore\", category=ConvergenceWarning)"
   ]
  },
  {
   "cell_type": "code",
   "execution_count": 2,
   "id": "8a3a77109a2c7f91",
   "metadata": {
    "ExecuteTime": {
     "end_time": "2025-01-16T19:29:19.912732Z",
     "start_time": "2025-01-16T19:29:19.901337Z"
    }
   },
   "outputs": [],
   "source": [
    "RANDOM_SEED = 42"
   ]
  },
  {
   "cell_type": "markdown",
   "id": "6e973dd1f901412c",
   "metadata": {},
   "source": [
    "Define the parameter grid: This is done in a vertain way because certain solvers are only compatible with certain regularization methods! E.g. LBFGS is only compatible without regularization or L2. "
   ]
  },
  {
   "cell_type": "code",
   "execution_count": 3,
   "id": "d2c76dc47c3be7a",
   "metadata": {
    "ExecuteTime": {
     "end_time": "2025-01-16T19:29:19.949771Z",
     "start_time": "2025-01-16T19:29:19.917884Z"
    }
   },
   "outputs": [],
   "source": [
    "C_options = [0.01, 0.1, 1.0]\n",
    "tol_options = [1e-4, 1e-3]\n",
    "max_iter_options = [50, 100, 150]\n",
    "param_grid = [\n",
    "    {\"solver\": \n",
    "         [\"sag\", \"lbfgs\", \"newton-cg\"], \"penalty\": [\"l2\"], \"C\": C_options, \"tol\": tol_options, \"max_iter\": max_iter_options},\n",
    "    {\"solver\": \n",
    "         [\"liblinear\"], \"penalty\": [\"l1\", \"l2\"], \"C\": C_options, \"tol\": tol_options, \"max_iter\": max_iter_options},\n",
    "    {\"solver\": \n",
    "         [\"saga\"], \"penalty\": [\"l1\", \"l2\", \"elasticnet\"], \"C\": C_options, \"tol\": tol_options, \"max_iter\": max_iter_options, \"l1_ratio\": [0.25, 0.5, 0.75]},\n",
    "]"
   ]
  },
  {
   "cell_type": "code",
   "execution_count": 4,
   "id": "e552e1ca234069c6",
   "metadata": {
    "ExecuteTime": {
     "end_time": "2025-01-16T19:29:19.977837Z",
     "start_time": "2025-01-16T19:29:19.957071Z"
    }
   },
   "outputs": [],
   "source": [
    "# Cross-validation settings\n",
    "cv = StratifiedKFold(n_splits=5, shuffle=True, random_state=42)\n",
    "\n",
    "# Create the Logistic Regression model\n",
    "log_reg = LogisticRegression(multi_class='auto', random_state=RANDOM_SEED)\n",
    "\n",
    "# Setup GridSearchCV\n",
    "grid_search = GridSearchCV(\n",
    "    estimator=log_reg,\n",
    "    param_grid=param_grid,\n",
    "    scoring=make_scorer(accuracy_score),\n",
    "    cv=cv,\n",
    "    n_jobs=-1,\n",
    "    verbose=3\n",
    ")"
   ]
  },
  {
   "cell_type": "markdown",
   "id": "ef23d3467c9b865f",
   "metadata": {},
   "source": [
    "Loading MNIST"
   ]
  },
  {
   "cell_type": "code",
   "execution_count": 5,
   "id": "1123b1efb2e5f275",
   "metadata": {
    "ExecuteTime": {
     "end_time": "2025-01-16T19:29:38.372353Z",
     "start_time": "2025-01-16T19:29:19.983016Z"
    }
   },
   "outputs": [],
   "source": [
    "X_train, y_train, X_test, y_test, _, _, _, _ = load_MNIST(random_seed=RANDOM_SEED)"
   ]
  },
  {
   "cell_type": "code",
   "execution_count": 6,
   "id": "b4fcc4707d21a2be",
   "metadata": {
    "ExecuteTime": {
     "start_time": "2025-01-16T19:29:38.377432Z"
    },
    "jupyter": {
     "is_executing": true
    }
   },
   "outputs": [
    {
     "name": "stdout",
     "output_type": "stream",
     "text": [
      "Fitting 5 folds for each of 252 candidates, totalling 1260 fits\n",
      "Best Parameters: {'C': 0.1, 'max_iter': 50, 'penalty': 'l2', 'solver': 'newton-cg', 'tol': 0.0001}\n",
      "Best Cross-Validation Accuracy: 0.9206041666666668\n",
      "Test Accuracy with Best Model: 0.9239\n"
     ]
    }
   ],
   "source": [
    "# Perform grid search\n",
    "grid_search.fit(X_train, y_train)\n",
    "\n",
    "# Output the best parameters and corresponding score\n",
    "print(\"Best Parameters:\", grid_search.best_params_)\n",
    "print(\"Best Cross-Validation Accuracy:\", grid_search.best_score_)\n",
    "\n",
    "# Evaluate the best model on the test set\n",
    "best_model = grid_search.best_estimator_\n",
    "test_accuracy = best_model.score(X_test, y_test)\n",
    "print(\"Test Accuracy with Best Model:\", test_accuracy)"
   ]
  },
  {
   "cell_type": "markdown",
   "id": "757f7517e8c5a96c",
   "metadata": {},
   "source": [
    "Save parameters"
   ]
  },
  {
   "cell_type": "code",
   "execution_count": 7,
   "id": "d24b86bfc5e86acb",
   "metadata": {
    "jupyter": {
     "is_executing": true
    }
   },
   "outputs": [],
   "source": [
    "best_params = grid_search.best_params_\n",
    "# transform them to the format of dict that I use in the shallow_classifier experiments\n",
    "model_parameters={\n",
    "    \"max_iterations_per_epoch\": best_params['max_iter'],\n",
    "    \"regularization\": best_params['penalty'], # l1', 'l2', 'elasticnet' or None\n",
    "    \"regularization_strength\": best_params['C'], # smaller values mean stronger regularization\n",
    "    \"solver\": best_params['solver'],\n",
    "    \"early_stopping_tol\": best_params['tol']\n",
    "}\n",
    "\n",
    "save_file(\"shallow_classifier_parameters.pkl\", model_parameters)"
   ]
  }
 ],
 "metadata": {
  "kernelspec": {
   "display_name": "Python 3 (ipykernel)",
   "language": "python",
   "name": "python3"
  },
  "language_info": {
   "codemirror_mode": {
    "name": "ipython",
    "version": 3
   },
   "file_extension": ".py",
   "mimetype": "text/x-python",
   "name": "python",
   "nbconvert_exporter": "python",
   "pygments_lexer": "ipython3",
   "version": "3.11.5"
  }
 },
 "nbformat": 4,
 "nbformat_minor": 5
}
