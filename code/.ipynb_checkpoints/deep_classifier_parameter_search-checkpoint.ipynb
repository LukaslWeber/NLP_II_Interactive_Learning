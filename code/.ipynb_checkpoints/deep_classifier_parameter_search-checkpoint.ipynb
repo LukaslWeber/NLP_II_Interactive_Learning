{
 "cells": [
  {
   "cell_type": "markdown",
   "id": "1a11b10ab454760e",
   "metadata": {},
   "source": [
    "# WARNING: This code doesn't work with the torch version that modAL needs, so to be able to run this script you need to do the following:\n",
    "- Run \"pip install --upgrade scikit-learn skorch\" to update skorch\n",
    "- Run this script\n",
    "- Run \"pip install skorch==0.9.0\" to downgrade skorch to the newest version that is compatible with ModAL"
   ]
  },
  {
   "cell_type": "code",
   "execution_count": 11,
   "id": "initial_id",
   "metadata": {},
   "outputs": [],
   "source": [
    "from sklearn.model_selection import RandomizedSearchCV, cross_val_score, StratifiedKFold\n",
    "from cnn_model import CNN\n",
    "from skorch import NeuralNetClassifier\n",
    "from sklearn.metrics import make_scorer, accuracy_score\n",
    "import numpy as np\n",
    "import torch\n",
    "from utils import load_CIFAR, save_file\n",
    "import warnings\n",
    "from sklearn.exceptions import ConvergenceWarning\n",
    "import time\n",
    "\n",
    "warnings.filterwarnings('ignore', category=FutureWarning)\n",
    "warnings.filterwarnings(\"ignore\", category=ConvergenceWarning)"
   ]
  },
  {
   "cell_type": "code",
   "execution_count": 12,
   "id": "8a3a77109a2c7f91",
   "metadata": {
    "ExecuteTime": {
     "end_time": "2025-01-17T13:03:21.280652Z",
     "start_time": "2025-01-17T13:03:21.269123Z"
    }
   },
   "outputs": [],
   "source": [
    "RANDOM_SEED = 42"
   ]
  },
  {
   "cell_type": "markdown",
   "id": "6e973dd1f901412c",
   "metadata": {},
   "source": [
    "Define the parameter grid: This is done in a vertain way because certain solvers are only compatible with certain regularization methods! E.g. LBFGS is only compatible without regularization or L2. "
   ]
  },
  {
   "cell_type": "code",
   "execution_count": 13,
   "id": "d2c76dc47c3be7a",
   "metadata": {
    "ExecuteTime": {
     "end_time": "2025-01-17T13:03:21.304972Z",
     "start_time": "2025-01-17T13:03:21.284671Z"
    }
   },
   "outputs": [],
   "source": [
    "param_grid = {\n",
    "    # CNN-specific parameters\n",
    "    'module__input_size': [16, 32],\n",
    "    'module__num_channels': [3],\n",
    "    'module__l1_channels': [32, 64],\n",
    "    'module__l1_kernel_size': [3, 5, 7],\n",
    "    'module__l1_padding': [1, 'same'],\n",
    "    'module__l1_stride': [1, 2], \n",
    "    'module__l2_channels': [64, 128],\n",
    "    'module__l2_kernel_size': [3, 5, 7],\n",
    "    'module__l2_max_pool_kernel_size': [3, 5],\n",
    "    'module__l2_padding': [1, 'same'],\n",
    "    'module__l2_stride': [1, 2],\n",
    "    'module__l2_dropout': [0.25, 0.35, 0.5],\n",
    "    'module__l3_dropout': [0.25, 0.35, 0.5],\n",
    "    'module__l4_input': [512, 1024, 2048],\n",
    "    'module__l4_dropout': [0.25, 0.35, 0.5],\n",
    "    'module__l5_input': [1024, 2048],\n",
    "    'module__output_size': [10],\n",
    "    # Training-specific parameters\n",
    "    'lr': [1e-4, 1e-3, 5e-3, 1e-2],\n",
    "    'optimizer__weight_decay': [1e-4, 1e-3, 5e-3],\n",
    "    'max_epochs': [1000, 1250, 1500],\n",
    "    'batch_size': [32, 64, 128]\n",
    "}\n"
   ]
  },
  {
   "cell_type": "code",
   "execution_count": 14,
   "id": "e552e1ca234069c6",
   "metadata": {
    "ExecuteTime": {
     "end_time": "2025-01-17T13:03:21.324849Z",
     "start_time": "2025-01-17T13:03:21.311993Z"
    }
   },
   "outputs": [],
   "source": [
    "# Cross-validation settings\n",
    "cv = StratifiedKFold(n_splits=5, shuffle=True, random_state=42)\n",
    "\n",
    "# Create the Logistic Regression model\n",
    "cnn_basic = NeuralNetClassifier(\n",
    "    module=CNN,\n",
    "    criterion=torch.nn.CrossEntropyLoss,\n",
    "    optimizer=torch.optim.Adam,\n",
    "    train_split=None,\n",
    "    verbose=0,\n",
    "    device=\"cuda\" if torch.cuda.is_available() else \"cpu\"\n",
    ")\n",
    "\n",
    "# Setup GridSearchCV\n",
    "random_search = RandomizedSearchCV(\n",
    "    estimator=cnn_basic,\n",
    "    param_distributions=param_grid,\n",
    "    n_iter=5,  # Number of configurations to try\n",
    "    scoring='accuracy',\n",
    "    cv=cv,\n",
    "    random_state=RANDOM_SEED,\n",
    "    verbose=3\n",
    ")"
   ]
  },
  {
   "cell_type": "markdown",
   "id": "ef23d3467c9b865f",
   "metadata": {},
   "source": [
    "Loading MNIST"
   ]
  },
  {
   "cell_type": "code",
   "execution_count": 15,
   "id": "1123b1efb2e5f275",
   "metadata": {
    "ExecuteTime": {
     "end_time": "2025-01-17T13:03:28.092644Z",
     "start_time": "2025-01-17T13:03:21.328867Z"
    }
   },
   "outputs": [],
   "source": [
    "X_train, y_train, _, _, _, _, _, _ = load_CIFAR(random_seed=RANDOM_SEED)"
   ]
  },
  {
   "cell_type": "code",
   "execution_count": null,
   "id": "b4fcc4707d21a2be",
   "metadata": {
    "ExecuteTime": {
     "end_time": "2025-01-17T13:03:52.617220Z",
     "start_time": "2025-01-17T13:03:49.832400Z"
    }
   },
   "outputs": [
    {
     "name": "stdout",
     "output_type": "stream",
     "text": [
      "Fitting 5 folds for each of 5 candidates, totalling 25 fits\n"
     ]
    }
   ],
   "source": [
    "# Perform grid search\n",
    "start = time.time()\n",
    "random_search.fit(X_train, y_train)\n",
    "\n",
    "# Output the best parameters and corresponding score\n",
    "print(\"____________\")\n",
    "print(\"Best Parameters:\", random_search.best_params_)\n",
    "print(\"Best Cross-Validation Accuracy:\", random_search.best_score_)\n",
    "print(\"time:\", time.time()-start)"
   ]
  },
  {
   "cell_type": "code",
   "execution_count": null,
   "id": "2a37847e69915d68",
   "metadata": {},
   "outputs": [],
   "source": [
    "del(X_train)\n",
    "del(y_train)\n",
    "_, _, X_test, y_test, _, _, _, _ = load_CIFAR(random_seed=RANDOM_SEED)\n",
    "# Evaluate the best model on the test set\n",
    "best_model = random_search.best_estimator_\n",
    "test_accuracy = best_model.score(X_test, y_test)\n",
    "print(\"Test Accuracy with Best Model:\", test_accuracy)"
   ]
  },
  {
   "cell_type": "markdown",
   "id": "757f7517e8c5a96c",
   "metadata": {},
   "source": [
    "Save parameters"
   ]
  },
  {
   "cell_type": "code",
   "execution_count": null,
   "id": "d24b86bfc5e86acb",
   "metadata": {},
   "outputs": [],
   "source": [
    "best_params = random_search.best_params_\n",
    "print(best_params)\n",
    "# transform them to the format of dict that I use in the shallow_classifier experiments\n",
    "model_parameters={\n",
    "    # CNN-specific parameters\n",
    "    'input_size': best_params['module__input_size'],\n",
    "    'num_channels': best_params['module__num_channels'],\n",
    "    'l1_channels': best_params['module__l1_channels'],\n",
    "    'l1_kernel_size': best_params['module__l1_kernel_size'],\n",
    "    'l1_padding': best_params['module__l1_padding'],\n",
    "    'l1_stride': best_params['module__l1_stride'], \n",
    "    'l2_channels': best_params['module__l2_channels'],\n",
    "    'l2_kernel_size': best_params['module__l2_kernel_size'],\n",
    "    'l2_max_pool_kernel_size': best_params['module__l2_max_pool_kernel_size'],\n",
    "    'l2_padding': best_params['module__l2_padding'],\n",
    "    'l2_stride': best_params['module__l2_stride'],\n",
    "    'l2_dropout': best_params['module__l2_dropout'],\n",
    "    'l3_dropout': best_params['module__l3_dropout'],\n",
    "    'l4_input': best_params['module__l4_input'],\n",
    "    'l4_dropout': best_params['module__l4_dropout'],\n",
    "    'l5_input': best_params['module__l5_input'],\n",
    "    'output_size': best_params['module__output_size'],\n",
    "    # Training-specific parameters\n",
    "    'lr': best_params['lr'],\n",
    "    'weight_decay': best_params['optimizer__weight_decay'],\n",
    "    'max_epochs': best_params['max_epochs'],\n",
    "    'batch_size': best_params['batch_size']\n",
    "}\n",
    "save_file(\"deep_classifier_parameters.pkl\", model_parameters)"
   ]
  }
 ],
 "metadata": {
  "kernelspec": {
   "display_name": "Python 3 (ipykernel)",
   "language": "python",
   "name": "python3"
  },
  "language_info": {
   "codemirror_mode": {
    "name": "ipython",
    "version": 3
   },
   "file_extension": ".py",
   "mimetype": "text/x-python",
   "name": "python",
   "nbconvert_exporter": "python",
   "pygments_lexer": "ipython3",
   "version": "3.11.5"
  }
 },
 "nbformat": 4,
 "nbformat_minor": 5
}
