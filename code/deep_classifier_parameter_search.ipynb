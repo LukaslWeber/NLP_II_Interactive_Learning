{
 "cells": [
  {
   "cell_type": "code",
   "id": "initial_id",
   "metadata": {
    "collapsed": true,
    "ExecuteTime": {
     "end_time": "2025-01-16T19:29:19.895152Z",
     "start_time": "2025-01-16T19:28:00.456406Z"
    }
   },
   "source": [
    "from sklearn.model_selection import GridSearchCV, cross_val_score, StratifiedKFold\n",
    "from cnn_model import CNN\n",
    "from skorch import NeuralNetClassifier\n",
    "from sklearn.metrics import make_scorer, accuracy_score\n",
    "import numpy as np\n",
    "from utils import load_CIFAR, save_file\n",
    "import warnings\n",
    "from sklearn.exceptions import ConvergenceWarning\n",
    "\n",
    "warnings.filterwarnings('ignore', category=FutureWarning)\n",
    "warnings.filterwarnings(\"ignore\", category=ConvergenceWarning)"
   ],
   "outputs": [],
   "execution_count": 1
  },
  {
   "metadata": {
    "ExecuteTime": {
     "end_time": "2025-01-16T19:29:19.912732Z",
     "start_time": "2025-01-16T19:29:19.901337Z"
    }
   },
   "cell_type": "code",
   "source": "RANDOM_SEED = 42",
   "id": "8a3a77109a2c7f91",
   "outputs": [],
   "execution_count": 2
  },
  {
   "metadata": {},
   "cell_type": "markdown",
   "source": "Define the parameter grid: This is done in a vertain way because certain solvers are only compatible with certain regularization methods! E.g. LBFGS is only compatible without regularization or L2. ",
   "id": "6e973dd1f901412c"
  },
  {
   "metadata": {
    "ExecuteTime": {
     "end_time": "2025-01-16T19:29:19.949771Z",
     "start_time": "2025-01-16T19:29:19.917884Z"
    }
   },
   "cell_type": "code",
   "source": [
    "param_grid = [\n",
    "]"
   ],
   "id": "d2c76dc47c3be7a",
   "outputs": [],
   "execution_count": 3
  },
  {
   "metadata": {
    "ExecuteTime": {
     "end_time": "2025-01-16T19:29:19.977837Z",
     "start_time": "2025-01-16T19:29:19.957071Z"
    }
   },
   "cell_type": "code",
   "source": [
    "# Cross-validation settings\n",
    "cv = StratifiedKFold(n_splits=5, shuffle=True, random_state=42)\n",
    "\n",
    "# Create the Logistic Regression model\n",
    "log_reg = LogisticRegression(multi_class='auto', random_state=RANDOM_SEED)\n",
    "\n",
    "# Setup GridSearchCV\n",
    "grid_search = GridSearchCV(\n",
    "    estimator=log_reg,\n",
    "    param_grid=param_grid,\n",
    "    scoring=make_scorer(accuracy_score),\n",
    "    cv=cv,\n",
    "    n_jobs=-1,\n",
    "    verbose=3\n",
    ")"
   ],
   "id": "e552e1ca234069c6",
   "outputs": [],
   "execution_count": 4
  },
  {
   "metadata": {},
   "cell_type": "markdown",
   "source": "Loading MNIST",
   "id": "ef23d3467c9b865f"
  },
  {
   "metadata": {
    "ExecuteTime": {
     "end_time": "2025-01-16T19:29:38.372353Z",
     "start_time": "2025-01-16T19:29:19.983016Z"
    }
   },
   "cell_type": "code",
   "source": "X_train, y_train, X_test, y_test, X_val, y_val, _, _ = load_MNIST(random_seed=RANDOM_SEED)",
   "id": "1123b1efb2e5f275",
   "outputs": [],
   "execution_count": 5
  },
  {
   "metadata": {
    "jupyter": {
     "is_executing": true
    },
    "ExecuteTime": {
     "start_time": "2025-01-16T19:29:38.377432Z"
    }
   },
   "cell_type": "code",
   "source": [
    "# Perform grid search\n",
    "grid_search.fit(X_train, y_train)\n",
    "\n",
    "# Output the best parameters and corresponding score\n",
    "print(\"Best Parameters:\", grid_search.best_params_)\n",
    "print(\"Best Cross-Validation Accuracy:\", grid_search.best_score_)\n",
    "\n",
    "# Evaluate the best model on the test set\n",
    "best_model = grid_search.best_estimator_\n",
    "test_accuracy = best_model.score(X_test, y_test)\n",
    "print(\"Test Accuracy with Best Model:\", test_accuracy)"
   ],
   "id": "b4fcc4707d21a2be",
   "outputs": [
    {
     "name": "stdout",
     "output_type": "stream",
     "text": [
      "Fitting 5 folds for each of 252 candidates, totalling 1260 fits\n"
     ]
    }
   ],
   "execution_count": null
  },
  {
   "metadata": {},
   "cell_type": "markdown",
   "source": "Save parameters",
   "id": "757f7517e8c5a96c"
  },
  {
   "metadata": {
    "jupyter": {
     "is_executing": true
    }
   },
   "cell_type": "code",
   "source": [
    "best_params = grid_search.best_params_\n",
    "# transform them to the format of dict that I use in the shallow_classifier experiments\n",
    "model_parameters={\n",
    "    \"max_iterations_per_epoch\": best_params['max_iter'],\n",
    "    \"regularization\": best_params['penalty'], # l1', 'l2', 'elasticnet' or None\n",
    "    \"regularization_strength\": best_params['C'], # smaller values mean stronger regularization\n",
    "    \"solver\": best_params['solver'],\n",
    "    \"early_stopping_tol\": best_params['tol']\n",
    "}\n",
    "\n",
    "save_file(\"shallow_classifier_parameters.pkl\", model_parameters)"
   ],
   "id": "d24b86bfc5e86acb",
   "outputs": [],
   "execution_count": null
  }
 ],
 "metadata": {
  "kernelspec": {
   "display_name": "Python 3",
   "language": "python",
   "name": "python3"
  },
  "language_info": {
   "codemirror_mode": {
    "name": "ipython",
    "version": 2
   },
   "file_extension": ".py",
   "mimetype": "text/x-python",
   "name": "python",
   "nbconvert_exporter": "python",
   "pygments_lexer": "ipython2",
   "version": "2.7.6"
  }
 },
 "nbformat": 4,
 "nbformat_minor": 5
}
