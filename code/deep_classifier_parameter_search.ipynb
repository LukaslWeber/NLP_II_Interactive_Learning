{
 "cells": [
  {
   "cell_type": "markdown",
   "id": "1a11b10ab454760e",
   "metadata": {
    "id": "1a11b10ab454760e"
   },
   "source": [
    "# WARNING: This code doesn't work with the torch version that modAL needs, so to be able to run this script you need to do the following:\n",
    "- Run \"pip install --upgrade scikit-learn skorch\" to update skorch\n",
    "- Run this script\n",
    "- Run \"pip install skorch==0.9.0\" to downgrade skorch to the newest version that is compatible with ModAL"
   ]
  },
  {
   "cell_type": "code",
   "execution_count": 1,
   "id": "qMT7eoUelGd1",
   "metadata": {
    "colab": {
     "base_uri": "https://localhost:8080/"
    },
    "id": "qMT7eoUelGd1",
    "outputId": "0d35d9b4-9a45-4ffb-88e7-df505170f273"
   },
   "outputs": [
    {
     "name": "stdout",
     "output_type": "stream",
     "text": [
      "Mounted at /content/drive\n"
     ]
    }
   ],
   "source": [
    "from google.colab import drive\n",
    "drive.mount('/content/drive')"
   ]
  },
  {
   "cell_type": "code",
   "execution_count": 2,
   "id": "3pRXJ2nLn3WW",
   "metadata": {
    "colab": {
     "base_uri": "https://localhost:8080/"
    },
    "id": "3pRXJ2nLn3WW",
    "outputId": "3cec9ca2-6a1c-4f94-9402-5126c67ca827"
   },
   "outputs": [
    {
     "name": "stdout",
     "output_type": "stream",
     "text": [
      "Collecting skorch\n",
      "  Downloading skorch-1.1.0-py3-none-any.whl.metadata (11 kB)\n",
      "Requirement already satisfied: numpy>=1.13.3 in /usr/local/lib/python3.11/dist-packages (from skorch) (1.26.4)\n",
      "Requirement already satisfied: scikit-learn>=0.22.0 in /usr/local/lib/python3.11/dist-packages (from skorch) (1.6.0)\n",
      "Requirement already satisfied: scipy>=1.1.0 in /usr/local/lib/python3.11/dist-packages (from skorch) (1.13.1)\n",
      "Requirement already satisfied: tabulate>=0.7.7 in /usr/local/lib/python3.11/dist-packages (from skorch) (0.9.0)\n",
      "Requirement already satisfied: tqdm>=4.14.0 in /usr/local/lib/python3.11/dist-packages (from skorch) (4.67.1)\n",
      "Requirement already satisfied: joblib>=1.2.0 in /usr/local/lib/python3.11/dist-packages (from scikit-learn>=0.22.0->skorch) (1.4.2)\n",
      "Requirement already satisfied: threadpoolctl>=3.1.0 in /usr/local/lib/python3.11/dist-packages (from scikit-learn>=0.22.0->skorch) (3.5.0)\n",
      "Downloading skorch-1.1.0-py3-none-any.whl (228 kB)\n",
      "\u001b[?25l   \u001b[90m━━━━━━━━━━━━━━━━━━━━━━━━━━━━━━━━━━━━━━━━\u001b[0m \u001b[32m0.0/228.9 kB\u001b[0m \u001b[31m?\u001b[0m eta \u001b[36m-:--:--\u001b[0m\r",
      "\u001b[2K   \u001b[90m━━━━━━━━━━━━━━━━━━━━━━━━━━━━━━━━━━━━━━━━\u001b[0m \u001b[32m228.9/228.9 kB\u001b[0m \u001b[31m7.3 MB/s\u001b[0m eta \u001b[36m0:00:00\u001b[0m\n",
      "\u001b[?25hInstalling collected packages: skorch\n",
      "Successfully installed skorch-1.1.0\n"
     ]
    }
   ],
   "source": [
    "!pip install skorch"
   ]
  },
  {
   "cell_type": "code",
   "execution_count": 3,
   "id": "fcjdLwXfoPxl",
   "metadata": {
    "colab": {
     "base_uri": "https://localhost:8080/"
    },
    "id": "fcjdLwXfoPxl",
    "outputId": "aa3726c9-2fe7-4039-c7df-59b817b6ae32"
   },
   "outputs": [
    {
     "name": "stdout",
     "output_type": "stream",
     "text": [
      "Collecting git+https://github.com/modAL-python/modAL.git\n",
      "  Cloning https://github.com/modAL-python/modAL.git to /tmp/pip-req-build-xi4z7z1i\n",
      "  Running command git clone --filter=blob:none --quiet https://github.com/modAL-python/modAL.git /tmp/pip-req-build-xi4z7z1i\n",
      "  Resolved https://github.com/modAL-python/modAL.git to commit bba6f6fd00dbb862b1e09259b78caf6cffa2e755\n",
      "  Preparing metadata (setup.py) ... \u001b[?25l\u001b[?25hdone\n",
      "Requirement already satisfied: numpy in /usr/local/lib/python3.11/dist-packages (from modAL-python==0.4.2) (1.26.4)\n",
      "Requirement already satisfied: scikit-learn>=0.18 in /usr/local/lib/python3.11/dist-packages (from modAL-python==0.4.2) (1.6.0)\n",
      "Requirement already satisfied: scipy>=0.18 in /usr/local/lib/python3.11/dist-packages (from modAL-python==0.4.2) (1.13.1)\n",
      "Requirement already satisfied: pandas>=1.1.0 in /usr/local/lib/python3.11/dist-packages (from modAL-python==0.4.2) (2.2.2)\n",
      "Collecting skorch==0.9.0 (from modAL-python==0.4.2)\n",
      "  Downloading skorch-0.9.0-py3-none-any.whl.metadata (8.3 kB)\n",
      "Requirement already satisfied: tabulate>=0.7.7 in /usr/local/lib/python3.11/dist-packages (from skorch==0.9.0->modAL-python==0.4.2) (0.9.0)\n",
      "Requirement already satisfied: tqdm>=4.14.0 in /usr/local/lib/python3.11/dist-packages (from skorch==0.9.0->modAL-python==0.4.2) (4.67.1)\n",
      "Requirement already satisfied: python-dateutil>=2.8.2 in /usr/local/lib/python3.11/dist-packages (from pandas>=1.1.0->modAL-python==0.4.2) (2.8.2)\n",
      "Requirement already satisfied: pytz>=2020.1 in /usr/local/lib/python3.11/dist-packages (from pandas>=1.1.0->modAL-python==0.4.2) (2024.2)\n",
      "Requirement already satisfied: tzdata>=2022.7 in /usr/local/lib/python3.11/dist-packages (from pandas>=1.1.0->modAL-python==0.4.2) (2024.2)\n",
      "Requirement already satisfied: joblib>=1.2.0 in /usr/local/lib/python3.11/dist-packages (from scikit-learn>=0.18->modAL-python==0.4.2) (1.4.2)\n",
      "Requirement already satisfied: threadpoolctl>=3.1.0 in /usr/local/lib/python3.11/dist-packages (from scikit-learn>=0.18->modAL-python==0.4.2) (3.5.0)\n",
      "Requirement already satisfied: six>=1.5 in /usr/local/lib/python3.11/dist-packages (from python-dateutil>=2.8.2->pandas>=1.1.0->modAL-python==0.4.2) (1.17.0)\n",
      "Downloading skorch-0.9.0-py3-none-any.whl (125 kB)\n",
      "\u001b[2K   \u001b[90m━━━━━━━━━━━━━━━━━━━━━━━━━━━━━━━━━━━━━━━━\u001b[0m \u001b[32m125.8/125.8 kB\u001b[0m \u001b[31m4.0 MB/s\u001b[0m eta \u001b[36m0:00:00\u001b[0m\n",
      "\u001b[?25hBuilding wheels for collected packages: modAL-python\n",
      "  Building wheel for modAL-python (setup.py) ... \u001b[?25l\u001b[?25hdone\n",
      "  Created wheel for modAL-python: filename=modAL_python-0.4.2-py3-none-any.whl size=32647 sha256=f2d8935b0634796fa213ab6b92331d93e9757cc5c8fd44ededd250f12419c79f\n",
      "  Stored in directory: /tmp/pip-ephem-wheel-cache-g3vycyxv/wheels/87/f9/71/88b176e3d0684b68b377241dc3da25e38bd3133c2dd23fbba4\n",
      "Successfully built modAL-python\n",
      "Installing collected packages: skorch, modAL-python\n",
      "  Attempting uninstall: skorch\n",
      "    Found existing installation: skorch 1.1.0\n",
      "    Uninstalling skorch-1.1.0:\n",
      "      Successfully uninstalled skorch-1.1.0\n",
      "Successfully installed modAL-python-0.4.2 skorch-0.9.0\n"
     ]
    }
   ],
   "source": [
    "!pip install git+https://github.com/modAL-python/modAL.git"
   ]
  },
  {
   "cell_type": "code",
   "execution_count": 4,
   "id": "ehO8BSyzp6lf",
   "metadata": {
    "colab": {
     "base_uri": "https://localhost:8080/"
    },
    "id": "ehO8BSyzp6lf",
    "outputId": "3caf2c1e-9cc0-4bf9-fe7a-34675c41c049"
   },
   "outputs": [
    {
     "name": "stdout",
     "output_type": "stream",
     "text": [
      "Collecting skorch==1.1.0\n",
      "  Using cached skorch-1.1.0-py3-none-any.whl.metadata (11 kB)\n",
      "Requirement already satisfied: numpy>=1.13.3 in /usr/local/lib/python3.11/dist-packages (from skorch==1.1.0) (1.26.4)\n",
      "Requirement already satisfied: scikit-learn>=0.22.0 in /usr/local/lib/python3.11/dist-packages (from skorch==1.1.0) (1.6.0)\n",
      "Requirement already satisfied: scipy>=1.1.0 in /usr/local/lib/python3.11/dist-packages (from skorch==1.1.0) (1.13.1)\n",
      "Requirement already satisfied: tabulate>=0.7.7 in /usr/local/lib/python3.11/dist-packages (from skorch==1.1.0) (0.9.0)\n",
      "Requirement already satisfied: tqdm>=4.14.0 in /usr/local/lib/python3.11/dist-packages (from skorch==1.1.0) (4.67.1)\n",
      "Requirement already satisfied: joblib>=1.2.0 in /usr/local/lib/python3.11/dist-packages (from scikit-learn>=0.22.0->skorch==1.1.0) (1.4.2)\n",
      "Requirement already satisfied: threadpoolctl>=3.1.0 in /usr/local/lib/python3.11/dist-packages (from scikit-learn>=0.22.0->skorch==1.1.0) (3.5.0)\n",
      "Using cached skorch-1.1.0-py3-none-any.whl (228 kB)\n",
      "Installing collected packages: skorch\n",
      "  Attempting uninstall: skorch\n",
      "    Found existing installation: skorch 0.9.0\n",
      "    Uninstalling skorch-0.9.0:\n",
      "      Successfully uninstalled skorch-0.9.0\n",
      "\u001b[31mERROR: pip's dependency resolver does not currently take into account all the packages that are installed. This behaviour is the source of the following dependency conflicts.\n",
      "modal-python 0.4.2 requires skorch==0.9.0, but you have skorch 1.1.0 which is incompatible.\u001b[0m\u001b[31m\n",
      "\u001b[0mSuccessfully installed skorch-1.1.0\n"
     ]
    }
   ],
   "source": [
    "!pip install skorch==1.1.0"
   ]
  },
  {
   "cell_type": "code",
   "execution_count": 5,
   "id": "initial_id",
   "metadata": {
    "id": "initial_id"
   },
   "outputs": [],
   "source": [
    "from sklearn.model_selection import RandomizedSearchCV, cross_val_score, StratifiedKFold\n",
    "from cnn_model import CNN\n",
    "from skorch import NeuralNetClassifier\n",
    "from sklearn.metrics import make_scorer, accuracy_score\n",
    "import numpy as np\n",
    "import torch\n",
    "from utils import load_CIFAR, save_file\n",
    "import warnings\n",
    "from sklearn.exceptions import ConvergenceWarning\n",
    "import time\n",
    "import os, pickle\n",
    "from skorch.callbacks import GradientNormClipping\n",
    "\n",
    "\n",
    "warnings.filterwarnings('ignore', category=FutureWarning)\n",
    "warnings.filterwarnings(\"ignore\", category=ConvergenceWarning)"
   ]
  },
  {
   "cell_type": "code",
   "execution_count": 6,
   "id": "8a3a77109a2c7f91",
   "metadata": {
    "ExecuteTime": {
     "end_time": "2025-01-17T13:03:21.280652Z",
     "start_time": "2025-01-17T13:03:21.269123Z"
    },
    "id": "8a3a77109a2c7f91"
   },
   "outputs": [],
   "source": [
    "RANDOM_SEED = 42"
   ]
  },
  {
   "cell_type": "markdown",
   "id": "6e973dd1f901412c",
   "metadata": {
    "id": "6e973dd1f901412c"
   },
   "source": [
    "Define the parameter grid: This is done in a vertain way because certain solvers are only compatible with certain regularization methods! E.g. LBFGS is only compatible without regularization or L2."
   ]
  },
  {
   "cell_type": "code",
   "execution_count": 7,
   "id": "d2c76dc47c3be7a",
   "metadata": {
    "ExecuteTime": {
     "end_time": "2025-01-17T13:03:21.304972Z",
     "start_time": "2025-01-17T13:03:21.284671Z"
    },
    "id": "d2c76dc47c3be7a"
   },
   "outputs": [],
   "source": [
    "param_grid = {\n",
    "    # CNN-specific parameters\n",
    "    'module__input_size': [32],\n",
    "    'module__num_channels': [3],\n",
    "    'module__l1_channels': [32, 64],\n",
    "    'module__l1_kernel_size': [3, 5],\n",
    "    'module__l1_padding': [1, 'same'],\n",
    "    'module__l1_stride': [1, 2],\n",
    "    'module__l2_channels': [64, 128],\n",
    "    'module__l2_kernel_size': [3, 5],\n",
    "    'module__l2_max_pool_kernel_size': [3, 5],\n",
    "    'module__l2_padding': [1, 'same'],\n",
    "    'module__l2_stride': [1, 2],\n",
    "    'module__l2_dropout': [0.2, 0.25, 0.3],\n",
    "    'module__l3_dropout': [0.2, 0.25, 0.3],\n",
    "    'module__l4_input': [512, 1024, 2048],\n",
    "    'module__l4_dropout': [0.2, 0.25, 0.3],\n",
    "    'module__l5_input': [1024, 2048],\n",
    "    'module__output_size': [10],\n",
    "    # Training-specific parameters\n",
    "    'lr': [5e-4, 1e-4, 1e-3],\n",
    "    'optimizer__weight_decay': [1e-4, 1e-3, 5e-3],\n",
    "    'max_epochs': [125, 150, 175],\n",
    "    'batch_size': [32, 64, 128, 256]\n",
    "}\n"
   ]
  },
  {
   "cell_type": "code",
   "execution_count": 8,
   "id": "e552e1ca234069c6",
   "metadata": {
    "ExecuteTime": {
     "end_time": "2025-01-17T13:03:21.324849Z",
     "start_time": "2025-01-17T13:03:21.311993Z"
    },
    "id": "e552e1ca234069c6"
   },
   "outputs": [],
   "source": [
    "# Cross-validation settings\n",
    "cv = StratifiedKFold(n_splits=5, shuffle=True, random_state=42)\n",
    "\n",
    "# Create the Logistic Regression model\n",
    "gradient_clipping = GradientNormClipping(gradient_clip_value=1.0)\n",
    "cnn_basic = NeuralNetClassifier(\n",
    "    module=CNN,\n",
    "    criterion=torch.nn.CrossEntropyLoss,\n",
    "    optimizer=torch.optim.Adam,\n",
    "    train_split=None,\n",
    "    verbose=0,\n",
    "    device=\"cuda\" if torch.cuda.is_available() else \"cpu\",\n",
    "    callbacks=[gradient_clipping]\n",
    ")\n",
    "\n",
    "# Setup GridSearchCV\n",
    "random_search = RandomizedSearchCV(\n",
    "    estimator=cnn_basic,\n",
    "    param_distributions=param_grid,\n",
    "    n_iter=10,  # Number of configurations to try\n",
    "    scoring='accuracy',\n",
    "    cv=cv,\n",
    "    random_state=RANDOM_SEED,\n",
    "    verbose=3\n",
    ")"
   ]
  },
  {
   "cell_type": "markdown",
   "id": "ef23d3467c9b865f",
   "metadata": {
    "id": "ef23d3467c9b865f"
   },
   "source": [
    "Loading MNIST"
   ]
  },
  {
   "cell_type": "code",
   "execution_count": 9,
   "id": "1123b1efb2e5f275",
   "metadata": {
    "ExecuteTime": {
     "end_time": "2025-01-17T13:03:28.092644Z",
     "start_time": "2025-01-17T13:03:21.328867Z"
    },
    "colab": {
     "base_uri": "https://localhost:8080/"
    },
    "id": "1123b1efb2e5f275",
    "outputId": "1c9b9bcd-e485-4e48-a6db-0af685ac2df3"
   },
   "outputs": [
    {
     "name": "stdout",
     "output_type": "stream",
     "text": [
      "Downloading data from https://www.cs.toronto.edu/~kriz/cifar-10-python.tar.gz\n",
      "\u001b[1m170498071/170498071\u001b[0m \u001b[32m━━━━━━━━━━━━━━━━━━━━\u001b[0m\u001b[37m\u001b[0m \u001b[1m4s\u001b[0m 0us/step\n"
     ]
    }
   ],
   "source": [
    "X_train, y_train, _, _, _, _, _, _ = load_CIFAR(random_seed=RANDOM_SEED)"
   ]
  },
  {
   "cell_type": "code",
   "execution_count": 10,
   "id": "b4fcc4707d21a2be",
   "metadata": {
    "ExecuteTime": {
     "end_time": "2025-01-17T13:03:52.617220Z",
     "start_time": "2025-01-17T13:03:49.832400Z"
    },
    "colab": {
     "base_uri": "https://localhost:8080/"
    },
    "id": "b4fcc4707d21a2be",
    "outputId": "f766ddef-be7c-40c8-828c-0e7273d30c76"
   },
   "outputs": [
    {
     "name": "stdout",
     "output_type": "stream",
     "text": [
      "Fitting 5 folds for each of 10 candidates, totalling 50 fits\n",
      "[CV 1/5] END batch_size=128, lr=0.001, max_epochs=150, module__input_size=32, module__l1_channels=64, module__l1_kernel_size=5, module__l1_padding=1, module__l1_stride=2, module__l2_channels=64, module__l2_dropout=0.2, module__l2_kernel_size=3, module__l2_max_pool_kernel_size=3, module__l2_padding=same, module__l2_stride=1, module__l3_dropout=0.25, module__l4_dropout=0.25, module__l4_input=2048, module__l5_input=2048, module__num_channels=3, module__output_size=10, optimizer__weight_decay=0.001;, score=0.733 total time= 3.8min\n",
      "[CV 2/5] END batch_size=128, lr=0.001, max_epochs=150, module__input_size=32, module__l1_channels=64, module__l1_kernel_size=5, module__l1_padding=1, module__l1_stride=2, module__l2_channels=64, module__l2_dropout=0.2, module__l2_kernel_size=3, module__l2_max_pool_kernel_size=3, module__l2_padding=same, module__l2_stride=1, module__l3_dropout=0.25, module__l4_dropout=0.25, module__l4_input=2048, module__l5_input=2048, module__num_channels=3, module__output_size=10, optimizer__weight_decay=0.001;, score=0.723 total time= 3.7min\n",
      "[CV 3/5] END batch_size=128, lr=0.001, max_epochs=150, module__input_size=32, module__l1_channels=64, module__l1_kernel_size=5, module__l1_padding=1, module__l1_stride=2, module__l2_channels=64, module__l2_dropout=0.2, module__l2_kernel_size=3, module__l2_max_pool_kernel_size=3, module__l2_padding=same, module__l2_stride=1, module__l3_dropout=0.25, module__l4_dropout=0.25, module__l4_input=2048, module__l5_input=2048, module__num_channels=3, module__output_size=10, optimizer__weight_decay=0.001;, score=0.723 total time= 3.7min\n",
      "[CV 4/5] END batch_size=128, lr=0.001, max_epochs=150, module__input_size=32, module__l1_channels=64, module__l1_kernel_size=5, module__l1_padding=1, module__l1_stride=2, module__l2_channels=64, module__l2_dropout=0.2, module__l2_kernel_size=3, module__l2_max_pool_kernel_size=3, module__l2_padding=same, module__l2_stride=1, module__l3_dropout=0.25, module__l4_dropout=0.25, module__l4_input=2048, module__l5_input=2048, module__num_channels=3, module__output_size=10, optimizer__weight_decay=0.001;, score=0.721 total time= 3.7min\n",
      "[CV 5/5] END batch_size=128, lr=0.001, max_epochs=150, module__input_size=32, module__l1_channels=64, module__l1_kernel_size=5, module__l1_padding=1, module__l1_stride=2, module__l2_channels=64, module__l2_dropout=0.2, module__l2_kernel_size=3, module__l2_max_pool_kernel_size=3, module__l2_padding=same, module__l2_stride=1, module__l3_dropout=0.25, module__l4_dropout=0.25, module__l4_input=2048, module__l5_input=2048, module__num_channels=3, module__output_size=10, optimizer__weight_decay=0.001;, score=0.718 total time= 3.7min\n",
      "[CV 1/5] END batch_size=128, lr=0.001, max_epochs=175, module__input_size=32, module__l1_channels=32, module__l1_kernel_size=5, module__l1_padding=1, module__l1_stride=2, module__l2_channels=64, module__l2_dropout=0.25, module__l2_kernel_size=3, module__l2_max_pool_kernel_size=5, module__l2_padding=1, module__l2_stride=1, module__l3_dropout=0.2, module__l4_dropout=0.2, module__l4_input=512, module__l5_input=1024, module__num_channels=3, module__output_size=10, optimizer__weight_decay=0.005;, score=0.594 total time= 3.1min\n",
      "[CV 2/5] END batch_size=128, lr=0.001, max_epochs=175, module__input_size=32, module__l1_channels=32, module__l1_kernel_size=5, module__l1_padding=1, module__l1_stride=2, module__l2_channels=64, module__l2_dropout=0.25, module__l2_kernel_size=3, module__l2_max_pool_kernel_size=5, module__l2_padding=1, module__l2_stride=1, module__l3_dropout=0.2, module__l4_dropout=0.2, module__l4_input=512, module__l5_input=1024, module__num_channels=3, module__output_size=10, optimizer__weight_decay=0.005;, score=0.605 total time= 3.1min\n",
      "[CV 3/5] END batch_size=128, lr=0.001, max_epochs=175, module__input_size=32, module__l1_channels=32, module__l1_kernel_size=5, module__l1_padding=1, module__l1_stride=2, module__l2_channels=64, module__l2_dropout=0.25, module__l2_kernel_size=3, module__l2_max_pool_kernel_size=5, module__l2_padding=1, module__l2_stride=1, module__l3_dropout=0.2, module__l4_dropout=0.2, module__l4_input=512, module__l5_input=1024, module__num_channels=3, module__output_size=10, optimizer__weight_decay=0.005;, score=0.592 total time= 3.1min\n",
      "[CV 4/5] END batch_size=128, lr=0.001, max_epochs=175, module__input_size=32, module__l1_channels=32, module__l1_kernel_size=5, module__l1_padding=1, module__l1_stride=2, module__l2_channels=64, module__l2_dropout=0.25, module__l2_kernel_size=3, module__l2_max_pool_kernel_size=5, module__l2_padding=1, module__l2_stride=1, module__l3_dropout=0.2, module__l4_dropout=0.2, module__l4_input=512, module__l5_input=1024, module__num_channels=3, module__output_size=10, optimizer__weight_decay=0.005;, score=0.587 total time= 3.1min\n",
      "[CV 5/5] END batch_size=128, lr=0.001, max_epochs=175, module__input_size=32, module__l1_channels=32, module__l1_kernel_size=5, module__l1_padding=1, module__l1_stride=2, module__l2_channels=64, module__l2_dropout=0.25, module__l2_kernel_size=3, module__l2_max_pool_kernel_size=5, module__l2_padding=1, module__l2_stride=1, module__l3_dropout=0.2, module__l4_dropout=0.2, module__l4_input=512, module__l5_input=1024, module__num_channels=3, module__output_size=10, optimizer__weight_decay=0.005;, score=0.591 total time= 3.1min\n",
      "[CV 1/5] END batch_size=64, lr=0.001, max_epochs=175, module__input_size=32, module__l1_channels=32, module__l1_kernel_size=5, module__l1_padding=1, module__l1_stride=1, module__l2_channels=128, module__l2_dropout=0.25, module__l2_kernel_size=5, module__l2_max_pool_kernel_size=3, module__l2_padding=same, module__l2_stride=2, module__l3_dropout=0.25, module__l4_dropout=0.2, module__l4_input=2048, module__l5_input=2048, module__num_channels=3, module__output_size=10, optimizer__weight_decay=0.001;, score=0.712 total time=10.9min\n",
      "[CV 2/5] END batch_size=64, lr=0.001, max_epochs=175, module__input_size=32, module__l1_channels=32, module__l1_kernel_size=5, module__l1_padding=1, module__l1_stride=1, module__l2_channels=128, module__l2_dropout=0.25, module__l2_kernel_size=5, module__l2_max_pool_kernel_size=3, module__l2_padding=same, module__l2_stride=2, module__l3_dropout=0.25, module__l4_dropout=0.2, module__l4_input=2048, module__l5_input=2048, module__num_channels=3, module__output_size=10, optimizer__weight_decay=0.001;, score=0.690 total time=11.0min\n",
      "[CV 3/5] END batch_size=64, lr=0.001, max_epochs=175, module__input_size=32, module__l1_channels=32, module__l1_kernel_size=5, module__l1_padding=1, module__l1_stride=1, module__l2_channels=128, module__l2_dropout=0.25, module__l2_kernel_size=5, module__l2_max_pool_kernel_size=3, module__l2_padding=same, module__l2_stride=2, module__l3_dropout=0.25, module__l4_dropout=0.2, module__l4_input=2048, module__l5_input=2048, module__num_channels=3, module__output_size=10, optimizer__weight_decay=0.001;, score=0.681 total time=10.9min\n",
      "[CV 4/5] END batch_size=64, lr=0.001, max_epochs=175, module__input_size=32, module__l1_channels=32, module__l1_kernel_size=5, module__l1_padding=1, module__l1_stride=1, module__l2_channels=128, module__l2_dropout=0.25, module__l2_kernel_size=5, module__l2_max_pool_kernel_size=3, module__l2_padding=same, module__l2_stride=2, module__l3_dropout=0.25, module__l4_dropout=0.2, module__l4_input=2048, module__l5_input=2048, module__num_channels=3, module__output_size=10, optimizer__weight_decay=0.001;, score=0.714 total time=10.9min\n",
      "[CV 5/5] END batch_size=64, lr=0.001, max_epochs=175, module__input_size=32, module__l1_channels=32, module__l1_kernel_size=5, module__l1_padding=1, module__l1_stride=1, module__l2_channels=128, module__l2_dropout=0.25, module__l2_kernel_size=5, module__l2_max_pool_kernel_size=3, module__l2_padding=same, module__l2_stride=2, module__l3_dropout=0.25, module__l4_dropout=0.2, module__l4_input=2048, module__l5_input=2048, module__num_channels=3, module__output_size=10, optimizer__weight_decay=0.001;, score=0.707 total time=11.0min\n",
      "[CV 1/5] END batch_size=32, lr=0.001, max_epochs=175, module__input_size=32, module__l1_channels=64, module__l1_kernel_size=5, module__l1_padding=same, module__l1_stride=2, module__l2_channels=128, module__l2_dropout=0.25, module__l2_kernel_size=3, module__l2_max_pool_kernel_size=3, module__l2_padding=1, module__l2_stride=2, module__l3_dropout=0.2, module__l4_dropout=0.25, module__l4_input=512, module__l5_input=2048, module__num_channels=3, module__output_size=10, optimizer__weight_decay=0.005;, score=0.397 total time=10.0min\n",
      "[CV 2/5] END batch_size=32, lr=0.001, max_epochs=175, module__input_size=32, module__l1_channels=64, module__l1_kernel_size=5, module__l1_padding=same, module__l1_stride=2, module__l2_channels=128, module__l2_dropout=0.25, module__l2_kernel_size=3, module__l2_max_pool_kernel_size=3, module__l2_padding=1, module__l2_stride=2, module__l3_dropout=0.2, module__l4_dropout=0.25, module__l4_input=512, module__l5_input=2048, module__num_channels=3, module__output_size=10, optimizer__weight_decay=0.005;, score=0.401 total time= 9.9min\n",
      "[CV 3/5] END batch_size=32, lr=0.001, max_epochs=175, module__input_size=32, module__l1_channels=64, module__l1_kernel_size=5, module__l1_padding=same, module__l1_stride=2, module__l2_channels=128, module__l2_dropout=0.25, module__l2_kernel_size=3, module__l2_max_pool_kernel_size=3, module__l2_padding=1, module__l2_stride=2, module__l3_dropout=0.2, module__l4_dropout=0.25, module__l4_input=512, module__l5_input=2048, module__num_channels=3, module__output_size=10, optimizer__weight_decay=0.005;, score=0.392 total time=10.0min\n",
      "[CV 4/5] END batch_size=32, lr=0.001, max_epochs=175, module__input_size=32, module__l1_channels=64, module__l1_kernel_size=5, module__l1_padding=same, module__l1_stride=2, module__l2_channels=128, module__l2_dropout=0.25, module__l2_kernel_size=3, module__l2_max_pool_kernel_size=3, module__l2_padding=1, module__l2_stride=2, module__l3_dropout=0.2, module__l4_dropout=0.25, module__l4_input=512, module__l5_input=2048, module__num_channels=3, module__output_size=10, optimizer__weight_decay=0.005;, score=0.394 total time=10.0min\n",
      "[CV 5/5] END batch_size=32, lr=0.001, max_epochs=175, module__input_size=32, module__l1_channels=64, module__l1_kernel_size=5, module__l1_padding=same, module__l1_stride=2, module__l2_channels=128, module__l2_dropout=0.25, module__l2_kernel_size=3, module__l2_max_pool_kernel_size=3, module__l2_padding=1, module__l2_stride=2, module__l3_dropout=0.2, module__l4_dropout=0.25, module__l4_input=512, module__l5_input=2048, module__num_channels=3, module__output_size=10, optimizer__weight_decay=0.005;, score=0.405 total time= 9.9min\n",
      "[CV 1/5] END batch_size=256, lr=0.0005, max_epochs=150, module__input_size=32, module__l1_channels=64, module__l1_kernel_size=5, module__l1_padding=same, module__l1_stride=2, module__l2_channels=64, module__l2_dropout=0.25, module__l2_kernel_size=3, module__l2_max_pool_kernel_size=5, module__l2_padding=same, module__l2_stride=1, module__l3_dropout=0.25, module__l4_dropout=0.25, module__l4_input=512, module__l5_input=1024, module__num_channels=3, module__output_size=10, optimizer__weight_decay=0.0001;, score=0.730 total time= 2.2min\n",
      "[CV 2/5] END batch_size=256, lr=0.0005, max_epochs=150, module__input_size=32, module__l1_channels=64, module__l1_kernel_size=5, module__l1_padding=same, module__l1_stride=2, module__l2_channels=64, module__l2_dropout=0.25, module__l2_kernel_size=3, module__l2_max_pool_kernel_size=5, module__l2_padding=same, module__l2_stride=1, module__l3_dropout=0.25, module__l4_dropout=0.25, module__l4_input=512, module__l5_input=1024, module__num_channels=3, module__output_size=10, optimizer__weight_decay=0.0001;, score=0.731 total time= 2.2min\n",
      "[CV 3/5] END batch_size=256, lr=0.0005, max_epochs=150, module__input_size=32, module__l1_channels=64, module__l1_kernel_size=5, module__l1_padding=same, module__l1_stride=2, module__l2_channels=64, module__l2_dropout=0.25, module__l2_kernel_size=3, module__l2_max_pool_kernel_size=5, module__l2_padding=same, module__l2_stride=1, module__l3_dropout=0.25, module__l4_dropout=0.25, module__l4_input=512, module__l5_input=1024, module__num_channels=3, module__output_size=10, optimizer__weight_decay=0.0001;, score=0.721 total time= 2.2min\n",
      "[CV 4/5] END batch_size=256, lr=0.0005, max_epochs=150, module__input_size=32, module__l1_channels=64, module__l1_kernel_size=5, module__l1_padding=same, module__l1_stride=2, module__l2_channels=64, module__l2_dropout=0.25, module__l2_kernel_size=3, module__l2_max_pool_kernel_size=5, module__l2_padding=same, module__l2_stride=1, module__l3_dropout=0.25, module__l4_dropout=0.25, module__l4_input=512, module__l5_input=1024, module__num_channels=3, module__output_size=10, optimizer__weight_decay=0.0001;, score=0.722 total time= 2.2min\n",
      "[CV 5/5] END batch_size=256, lr=0.0005, max_epochs=150, module__input_size=32, module__l1_channels=64, module__l1_kernel_size=5, module__l1_padding=same, module__l1_stride=2, module__l2_channels=64, module__l2_dropout=0.25, module__l2_kernel_size=3, module__l2_max_pool_kernel_size=5, module__l2_padding=same, module__l2_stride=1, module__l3_dropout=0.25, module__l4_dropout=0.25, module__l4_input=512, module__l5_input=1024, module__num_channels=3, module__output_size=10, optimizer__weight_decay=0.0001;, score=0.727 total time= 2.2min\n",
      "[CV 1/5] END batch_size=64, lr=0.001, max_epochs=175, module__input_size=32, module__l1_channels=64, module__l1_kernel_size=5, module__l1_padding=same, module__l1_stride=2, module__l2_channels=128, module__l2_dropout=0.2, module__l2_kernel_size=3, module__l2_max_pool_kernel_size=5, module__l2_padding=same, module__l2_stride=2, module__l3_dropout=0.3, module__l4_dropout=0.25, module__l4_input=1024, module__l5_input=2048, module__num_channels=3, module__output_size=10, optimizer__weight_decay=0.005;, score=0.355 total time= 5.6min\n",
      "[CV 2/5] END batch_size=64, lr=0.001, max_epochs=175, module__input_size=32, module__l1_channels=64, module__l1_kernel_size=5, module__l1_padding=same, module__l1_stride=2, module__l2_channels=128, module__l2_dropout=0.2, module__l2_kernel_size=3, module__l2_max_pool_kernel_size=5, module__l2_padding=same, module__l2_stride=2, module__l3_dropout=0.3, module__l4_dropout=0.25, module__l4_input=1024, module__l5_input=2048, module__num_channels=3, module__output_size=10, optimizer__weight_decay=0.005;, score=0.349 total time= 5.5min\n",
      "[CV 3/5] END batch_size=64, lr=0.001, max_epochs=175, module__input_size=32, module__l1_channels=64, module__l1_kernel_size=5, module__l1_padding=same, module__l1_stride=2, module__l2_channels=128, module__l2_dropout=0.2, module__l2_kernel_size=3, module__l2_max_pool_kernel_size=5, module__l2_padding=same, module__l2_stride=2, module__l3_dropout=0.3, module__l4_dropout=0.25, module__l4_input=1024, module__l5_input=2048, module__num_channels=3, module__output_size=10, optimizer__weight_decay=0.005;, score=0.333 total time= 5.5min\n",
      "[CV 4/5] END batch_size=64, lr=0.001, max_epochs=175, module__input_size=32, module__l1_channels=64, module__l1_kernel_size=5, module__l1_padding=same, module__l1_stride=2, module__l2_channels=128, module__l2_dropout=0.2, module__l2_kernel_size=3, module__l2_max_pool_kernel_size=5, module__l2_padding=same, module__l2_stride=2, module__l3_dropout=0.3, module__l4_dropout=0.25, module__l4_input=1024, module__l5_input=2048, module__num_channels=3, module__output_size=10, optimizer__weight_decay=0.005;, score=0.344 total time= 5.6min\n",
      "[CV 5/5] END batch_size=64, lr=0.001, max_epochs=175, module__input_size=32, module__l1_channels=64, module__l1_kernel_size=5, module__l1_padding=same, module__l1_stride=2, module__l2_channels=128, module__l2_dropout=0.2, module__l2_kernel_size=3, module__l2_max_pool_kernel_size=5, module__l2_padding=same, module__l2_stride=2, module__l3_dropout=0.3, module__l4_dropout=0.25, module__l4_input=1024, module__l5_input=2048, module__num_channels=3, module__output_size=10, optimizer__weight_decay=0.005;, score=0.354 total time= 5.6min\n",
      "[CV 1/5] END batch_size=128, lr=0.0005, max_epochs=125, module__input_size=32, module__l1_channels=32, module__l1_kernel_size=3, module__l1_padding=same, module__l1_stride=1, module__l2_channels=128, module__l2_dropout=0.3, module__l2_kernel_size=3, module__l2_max_pool_kernel_size=3, module__l2_padding=same, module__l2_stride=2, module__l3_dropout=0.3, module__l4_dropout=0.25, module__l4_input=2048, module__l5_input=2048, module__num_channels=3, module__output_size=10, optimizer__weight_decay=0.005;, score=0.612 total time= 4.6min\n",
      "[CV 2/5] END batch_size=128, lr=0.0005, max_epochs=125, module__input_size=32, module__l1_channels=32, module__l1_kernel_size=3, module__l1_padding=same, module__l1_stride=1, module__l2_channels=128, module__l2_dropout=0.3, module__l2_kernel_size=3, module__l2_max_pool_kernel_size=3, module__l2_padding=same, module__l2_stride=2, module__l3_dropout=0.3, module__l4_dropout=0.25, module__l4_input=2048, module__l5_input=2048, module__num_channels=3, module__output_size=10, optimizer__weight_decay=0.005;, score=0.616 total time= 4.6min\n",
      "[CV 3/5] END batch_size=128, lr=0.0005, max_epochs=125, module__input_size=32, module__l1_channels=32, module__l1_kernel_size=3, module__l1_padding=same, module__l1_stride=1, module__l2_channels=128, module__l2_dropout=0.3, module__l2_kernel_size=3, module__l2_max_pool_kernel_size=3, module__l2_padding=same, module__l2_stride=2, module__l3_dropout=0.3, module__l4_dropout=0.25, module__l4_input=2048, module__l5_input=2048, module__num_channels=3, module__output_size=10, optimizer__weight_decay=0.005;, score=0.601 total time= 4.6min\n",
      "[CV 4/5] END batch_size=128, lr=0.0005, max_epochs=125, module__input_size=32, module__l1_channels=32, module__l1_kernel_size=3, module__l1_padding=same, module__l1_stride=1, module__l2_channels=128, module__l2_dropout=0.3, module__l2_kernel_size=3, module__l2_max_pool_kernel_size=3, module__l2_padding=same, module__l2_stride=2, module__l3_dropout=0.3, module__l4_dropout=0.25, module__l4_input=2048, module__l5_input=2048, module__num_channels=3, module__output_size=10, optimizer__weight_decay=0.005;, score=0.612 total time= 4.6min\n",
      "[CV 5/5] END batch_size=128, lr=0.0005, max_epochs=125, module__input_size=32, module__l1_channels=32, module__l1_kernel_size=3, module__l1_padding=same, module__l1_stride=1, module__l2_channels=128, module__l2_dropout=0.3, module__l2_kernel_size=3, module__l2_max_pool_kernel_size=3, module__l2_padding=same, module__l2_stride=2, module__l3_dropout=0.3, module__l4_dropout=0.25, module__l4_input=2048, module__l5_input=2048, module__num_channels=3, module__output_size=10, optimizer__weight_decay=0.005;, score=0.611 total time= 4.6min\n",
      "[CV 1/5] END batch_size=256, lr=0.0005, max_epochs=175, module__input_size=32, module__l1_channels=64, module__l1_kernel_size=5, module__l1_padding=1, module__l1_stride=1, module__l2_channels=64, module__l2_dropout=0.2, module__l2_kernel_size=5, module__l2_max_pool_kernel_size=5, module__l2_padding=1, module__l2_stride=1, module__l3_dropout=0.3, module__l4_dropout=0.3, module__l4_input=2048, module__l5_input=1024, module__num_channels=3, module__output_size=10, optimizer__weight_decay=0.0001;, score=0.731 total time= 6.7min\n",
      "[CV 2/5] END batch_size=256, lr=0.0005, max_epochs=175, module__input_size=32, module__l1_channels=64, module__l1_kernel_size=5, module__l1_padding=1, module__l1_stride=1, module__l2_channels=64, module__l2_dropout=0.2, module__l2_kernel_size=5, module__l2_max_pool_kernel_size=5, module__l2_padding=1, module__l2_stride=1, module__l3_dropout=0.3, module__l4_dropout=0.3, module__l4_input=2048, module__l5_input=1024, module__num_channels=3, module__output_size=10, optimizer__weight_decay=0.0001;, score=0.737 total time= 6.7min\n",
      "[CV 3/5] END batch_size=256, lr=0.0005, max_epochs=175, module__input_size=32, module__l1_channels=64, module__l1_kernel_size=5, module__l1_padding=1, module__l1_stride=1, module__l2_channels=64, module__l2_dropout=0.2, module__l2_kernel_size=5, module__l2_max_pool_kernel_size=5, module__l2_padding=1, module__l2_stride=1, module__l3_dropout=0.3, module__l4_dropout=0.3, module__l4_input=2048, module__l5_input=1024, module__num_channels=3, module__output_size=10, optimizer__weight_decay=0.0001;, score=0.730 total time= 6.7min\n",
      "[CV 4/5] END batch_size=256, lr=0.0005, max_epochs=175, module__input_size=32, module__l1_channels=64, module__l1_kernel_size=5, module__l1_padding=1, module__l1_stride=1, module__l2_channels=64, module__l2_dropout=0.2, module__l2_kernel_size=5, module__l2_max_pool_kernel_size=5, module__l2_padding=1, module__l2_stride=1, module__l3_dropout=0.3, module__l4_dropout=0.3, module__l4_input=2048, module__l5_input=1024, module__num_channels=3, module__output_size=10, optimizer__weight_decay=0.0001;, score=0.740 total time= 6.7min\n",
      "[CV 5/5] END batch_size=256, lr=0.0005, max_epochs=175, module__input_size=32, module__l1_channels=64, module__l1_kernel_size=5, module__l1_padding=1, module__l1_stride=1, module__l2_channels=64, module__l2_dropout=0.2, module__l2_kernel_size=5, module__l2_max_pool_kernel_size=5, module__l2_padding=1, module__l2_stride=1, module__l3_dropout=0.3, module__l4_dropout=0.3, module__l4_input=2048, module__l5_input=1024, module__num_channels=3, module__output_size=10, optimizer__weight_decay=0.0001;, score=0.736 total time= 6.7min\n",
      "[CV 1/5] END batch_size=128, lr=0.0005, max_epochs=175, module__input_size=32, module__l1_channels=32, module__l1_kernel_size=3, module__l1_padding=1, module__l1_stride=1, module__l2_channels=64, module__l2_dropout=0.25, module__l2_kernel_size=5, module__l2_max_pool_kernel_size=5, module__l2_padding=same, module__l2_stride=1, module__l3_dropout=0.2, module__l4_dropout=0.2, module__l4_input=512, module__l5_input=2048, module__num_channels=3, module__output_size=10, optimizer__weight_decay=0.005;, score=0.654 total time= 5.3min\n",
      "[CV 2/5] END batch_size=128, lr=0.0005, max_epochs=175, module__input_size=32, module__l1_channels=32, module__l1_kernel_size=3, module__l1_padding=1, module__l1_stride=1, module__l2_channels=64, module__l2_dropout=0.25, module__l2_kernel_size=5, module__l2_max_pool_kernel_size=5, module__l2_padding=same, module__l2_stride=1, module__l3_dropout=0.2, module__l4_dropout=0.2, module__l4_input=512, module__l5_input=2048, module__num_channels=3, module__output_size=10, optimizer__weight_decay=0.005;, score=0.654 total time= 5.3min\n",
      "[CV 3/5] END batch_size=128, lr=0.0005, max_epochs=175, module__input_size=32, module__l1_channels=32, module__l1_kernel_size=3, module__l1_padding=1, module__l1_stride=1, module__l2_channels=64, module__l2_dropout=0.25, module__l2_kernel_size=5, module__l2_max_pool_kernel_size=5, module__l2_padding=same, module__l2_stride=1, module__l3_dropout=0.2, module__l4_dropout=0.2, module__l4_input=512, module__l5_input=2048, module__num_channels=3, module__output_size=10, optimizer__weight_decay=0.005;, score=0.648 total time= 5.3min\n",
      "[CV 4/5] END batch_size=128, lr=0.0005, max_epochs=175, module__input_size=32, module__l1_channels=32, module__l1_kernel_size=3, module__l1_padding=1, module__l1_stride=1, module__l2_channels=64, module__l2_dropout=0.25, module__l2_kernel_size=5, module__l2_max_pool_kernel_size=5, module__l2_padding=same, module__l2_stride=1, module__l3_dropout=0.2, module__l4_dropout=0.2, module__l4_input=512, module__l5_input=2048, module__num_channels=3, module__output_size=10, optimizer__weight_decay=0.005;, score=0.652 total time= 5.3min\n",
      "[CV 5/5] END batch_size=128, lr=0.0005, max_epochs=175, module__input_size=32, module__l1_channels=32, module__l1_kernel_size=3, module__l1_padding=1, module__l1_stride=1, module__l2_channels=64, module__l2_dropout=0.25, module__l2_kernel_size=5, module__l2_max_pool_kernel_size=5, module__l2_padding=same, module__l2_stride=1, module__l3_dropout=0.2, module__l4_dropout=0.2, module__l4_input=512, module__l5_input=2048, module__num_channels=3, module__output_size=10, optimizer__weight_decay=0.005;, score=0.641 total time= 5.3min\n",
      "[CV 1/5] END batch_size=32, lr=0.001, max_epochs=150, module__input_size=32, module__l1_channels=32, module__l1_kernel_size=3, module__l1_padding=1, module__l1_stride=2, module__l2_channels=128, module__l2_dropout=0.2, module__l2_kernel_size=5, module__l2_max_pool_kernel_size=3, module__l2_padding=same, module__l2_stride=1, module__l3_dropout=0.3, module__l4_dropout=0.2, module__l4_input=1024, module__l5_input=2048, module__num_channels=3, module__output_size=10, optimizer__weight_decay=0.005;, score=0.442 total time=10.6min\n",
      "[CV 2/5] END batch_size=32, lr=0.001, max_epochs=150, module__input_size=32, module__l1_channels=32, module__l1_kernel_size=3, module__l1_padding=1, module__l1_stride=2, module__l2_channels=128, module__l2_dropout=0.2, module__l2_kernel_size=5, module__l2_max_pool_kernel_size=3, module__l2_padding=same, module__l2_stride=1, module__l3_dropout=0.3, module__l4_dropout=0.2, module__l4_input=1024, module__l5_input=2048, module__num_channels=3, module__output_size=10, optimizer__weight_decay=0.005;, score=0.455 total time=10.6min\n",
      "[CV 3/5] END batch_size=32, lr=0.001, max_epochs=150, module__input_size=32, module__l1_channels=32, module__l1_kernel_size=3, module__l1_padding=1, module__l1_stride=2, module__l2_channels=128, module__l2_dropout=0.2, module__l2_kernel_size=5, module__l2_max_pool_kernel_size=3, module__l2_padding=same, module__l2_stride=1, module__l3_dropout=0.3, module__l4_dropout=0.2, module__l4_input=1024, module__l5_input=2048, module__num_channels=3, module__output_size=10, optimizer__weight_decay=0.005;, score=0.429 total time=10.6min\n",
      "[CV 4/5] END batch_size=32, lr=0.001, max_epochs=150, module__input_size=32, module__l1_channels=32, module__l1_kernel_size=3, module__l1_padding=1, module__l1_stride=2, module__l2_channels=128, module__l2_dropout=0.2, module__l2_kernel_size=5, module__l2_max_pool_kernel_size=3, module__l2_padding=same, module__l2_stride=1, module__l3_dropout=0.3, module__l4_dropout=0.2, module__l4_input=1024, module__l5_input=2048, module__num_channels=3, module__output_size=10, optimizer__weight_decay=0.005;, score=0.443 total time=10.6min\n",
      "[CV 5/5] END batch_size=32, lr=0.001, max_epochs=150, module__input_size=32, module__l1_channels=32, module__l1_kernel_size=3, module__l1_padding=1, module__l1_stride=2, module__l2_channels=128, module__l2_dropout=0.2, module__l2_kernel_size=5, module__l2_max_pool_kernel_size=3, module__l2_padding=same, module__l2_stride=1, module__l3_dropout=0.3, module__l4_dropout=0.2, module__l4_input=1024, module__l5_input=2048, module__num_channels=3, module__output_size=10, optimizer__weight_decay=0.005;, score=0.469 total time=10.6min\n",
      "____________\n",
      "Best Parameters: {'optimizer__weight_decay': 0.0001, 'module__output_size': 10, 'module__num_channels': 3, 'module__l5_input': 1024, 'module__l4_input': 2048, 'module__l4_dropout': 0.3, 'module__l3_dropout': 0.3, 'module__l2_stride': 1, 'module__l2_padding': 1, 'module__l2_max_pool_kernel_size': 5, 'module__l2_kernel_size': 5, 'module__l2_dropout': 0.2, 'module__l2_channels': 64, 'module__l1_stride': 1, 'module__l1_padding': 1, 'module__l1_kernel_size': 5, 'module__l1_channels': 64, 'module__input_size': 32, 'max_epochs': 175, 'lr': 0.0005, 'batch_size': 256}\n",
      "Best Cross-Validation Accuracy: 0.734675\n",
      "time: 19273.07670712471\n"
     ]
    }
   ],
   "source": [
    "# Perform grid search\n",
    "start = time.time()\n",
    "random_search.fit(X_train, y_train)\n",
    "\n",
    "# Output the best parameters and corresponding score\n",
    "print(\"____________\")\n",
    "print(\"Best Parameters:\", random_search.best_params_)\n",
    "print(\"Best Cross-Validation Accuracy:\", random_search.best_score_)\n",
    "print(\"time:\", time.time()-start)"
   ]
  },
  {
   "cell_type": "code",
   "execution_count": 11,
   "id": "2a37847e69915d68",
   "metadata": {
    "colab": {
     "base_uri": "https://localhost:8080/"
    },
    "id": "2a37847e69915d68",
    "outputId": "7fc06fd4-463f-48d1-a72f-8f22ccdfa1ed"
   },
   "outputs": [
    {
     "name": "stdout",
     "output_type": "stream",
     "text": [
      "Test Accuracy with Best Model: 0.7447\n"
     ]
    }
   ],
   "source": [
    "del(X_train)\n",
    "del(y_train)\n",
    "_, _, X_test, y_test, _, _, _, _ = load_CIFAR(random_seed=RANDOM_SEED)\n",
    "# Evaluate the best model on the test set\n",
    "best_model = random_search.best_estimator_\n",
    "test_accuracy = best_model.score(X_test, y_test)\n",
    "print(\"Test Accuracy with Best Model:\", test_accuracy)"
   ]
  },
  {
   "cell_type": "markdown",
   "id": "757f7517e8c5a96c",
   "metadata": {
    "id": "757f7517e8c5a96c"
   },
   "source": [
    "Save parameters"
   ]
  },
  {
   "cell_type": "code",
   "execution_count": 12,
   "id": "d24b86bfc5e86acb",
   "metadata": {
    "colab": {
     "base_uri": "https://localhost:8080/"
    },
    "id": "d24b86bfc5e86acb",
    "outputId": "59db9ed9-abd4-44b8-bd6c-dccc6f40e072"
   },
   "outputs": [
    {
     "name": "stdout",
     "output_type": "stream",
     "text": [
      "{'optimizer__weight_decay': 0.0001, 'module__output_size': 10, 'module__num_channels': 3, 'module__l5_input': 1024, 'module__l4_input': 2048, 'module__l4_dropout': 0.3, 'module__l3_dropout': 0.3, 'module__l2_stride': 1, 'module__l2_padding': 1, 'module__l2_max_pool_kernel_size': 5, 'module__l2_kernel_size': 5, 'module__l2_dropout': 0.2, 'module__l2_channels': 64, 'module__l1_stride': 1, 'module__l1_padding': 1, 'module__l1_kernel_size': 5, 'module__l1_channels': 64, 'module__input_size': 32, 'max_epochs': 175, 'lr': 0.0005, 'batch_size': 256}\n",
      "Best parameters saved to /content/drive/MyDrive/deep_classifier_parameters.pkl\n"
     ]
    }
   ],
   "source": [
    "best_params = random_search.best_params_\n",
    "print(best_params)\n",
    "# transform them to the format of dict that I use in the shallow_classifier experiments\n",
    "model_parameters={\n",
    "    # CNN-specific parameters\n",
    "    'input_size': best_params['module__input_size'],\n",
    "    'num_channels': best_params['module__num_channels'],\n",
    "    'l1_channels': best_params['module__l1_channels'],\n",
    "    'l1_kernel_size': best_params['module__l1_kernel_size'],\n",
    "    'l1_padding': best_params['module__l1_padding'],\n",
    "    'l1_stride': best_params['module__l1_stride'],\n",
    "    'l2_channels': best_params['module__l2_channels'],\n",
    "    'l2_kernel_size': best_params['module__l2_kernel_size'],\n",
    "    'l2_max_pool_kernel_size': best_params['module__l2_max_pool_kernel_size'],\n",
    "    'l2_padding': best_params['module__l2_padding'],\n",
    "    'l2_stride': best_params['module__l2_stride'],\n",
    "    'l2_dropout': best_params['module__l2_dropout'],\n",
    "    'l3_dropout': best_params['module__l3_dropout'],\n",
    "    'l4_input': best_params['module__l4_input'],\n",
    "    'l4_dropout': best_params['module__l4_dropout'],\n",
    "    'l5_input': best_params['module__l5_input'],\n",
    "    'output_size': best_params['module__output_size'],\n",
    "    # Training-specific parameters\n",
    "    'lr': best_params['lr'],\n",
    "    'weight_decay': best_params['optimizer__weight_decay'],\n",
    "    'max_epochs': best_params['max_epochs'],\n",
    "    'batch_size': best_params['batch_size']\n",
    "}\n",
    "#save_file(\"deep_classifier_parameters.pkl\", model_parameters)\n",
    "base_path = f\"/content/drive/MyDrive/\"\n",
    "os.makedirs(base_path, exist_ok=True)\n",
    "params_path = os.path.join(base_path, \"deep_classifier_parameters.pkl\")\n",
    "with open(params_path, \"wb\") as f:\n",
    "    pickle.dump(model_parameters, f)\n",
    "print(f\"Best parameters saved to {params_path}\")"
   ]
  }
 ],
 "metadata": {
  "accelerator": "GPU",
  "colab": {
   "gpuType": "L4",
   "provenance": []
  },
  "kernelspec": {
   "display_name": "Python 3 (ipykernel)",
   "language": "python",
   "name": "python3"
  },
  "language_info": {
   "codemirror_mode": {
    "name": "ipython",
    "version": 3
   },
   "file_extension": ".py",
   "mimetype": "text/x-python",
   "name": "python",
   "nbconvert_exporter": "python",
   "pygments_lexer": "ipython3",
   "version": "3.11.5"
  }
 },
 "nbformat": 4,
 "nbformat_minor": 5
}
