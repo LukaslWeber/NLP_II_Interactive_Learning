{
 "cells": [
  {
   "cell_type": "code",
   "execution_count": 2,
   "id": "initial_id",
   "metadata": {
    "jupyter": {
     "is_executing": true
    }
   },
   "outputs": [],
   "source": [
    "import numpy as np\n",
    "from sklearn.datasets import fetch_openml\n",
    "from sklearn.metrics import accuracy_score\n",
    "from sklearn.linear_model import LogisticRegression\n",
    "from modAL.models import ActiveLearner"
   ]
  },
  {
   "cell_type": "markdown",
   "id": "f0279765590dbace",
   "metadata": {},
   "source": [
    "# Load DataSet (MNIST)"
   ]
  },
  {
   "cell_type": "code",
   "execution_count": 3,
   "id": "dcc421ad05e1ad19",
   "metadata": {},
   "outputs": [],
   "source": [
    "mnist = fetch_openml('mnist_784', version=1, parser=\"auto\")\n",
    "# mnist"
   ]
  },
  {
   "cell_type": "code",
   "execution_count": 4,
   "id": "70687c9dd4850357",
   "metadata": {},
   "outputs": [],
   "source": [
    "X, y = mnist.data.to_numpy(), mnist.target.to_numpy()\n",
    "\n",
    "# Normalize as data ranges between 0 and 255\n",
    "X = X/255\n",
    "# Convert type of y from string\n",
    "y = y.astype(int)\n",
    "\n",
    "X_train, y_train = X[:60000], y[:60000]\n",
    "X_test, y_test = X[60000:], y[60000:]"
   ]
  },
  {
   "cell_type": "markdown",
   "id": "cf045124ab805bbe",
   "metadata": {},
   "source": [
    "Check how often each digit appears in MNIST"
   ]
  },
  {
   "cell_type": "code",
   "execution_count": 5,
   "id": "6986af57f7b80502",
   "metadata": {},
   "outputs": [
    {
     "name": "stdout",
     "output_type": "stream",
     "text": [
      "Digit 0: 6903 times\n",
      "Digit 1: 7877 times\n",
      "Digit 2: 6990 times\n",
      "Digit 3: 7141 times\n",
      "Digit 4: 6824 times\n",
      "Digit 5: 6313 times\n",
      "Digit 6: 6876 times\n",
      "Digit 7: 7293 times\n",
      "Digit 8: 6825 times\n",
      "Digit 9: 6958 times\n"
     ]
    }
   ],
   "source": [
    "for i in range(10):\n",
    "    print(f\"Digit {i}: {np.count_nonzero(y == i)} times\")"
   ]
  },
  {
   "cell_type": "markdown",
   "id": "2436f066-4d37-4646-baff-85944ea67918",
   "metadata": {},
   "source": [
    "# Train a Logistic Regressor on the whole train dataset"
   ]
  },
  {
   "cell_type": "code",
   "execution_count": 6,
   "id": "f1af57c2-49ea-445f-a2d2-a66f70105900",
   "metadata": {},
   "outputs": [
    {
     "name": "stderr",
     "output_type": "stream",
     "text": [
      "C:\\Users\\lukas\\anaconda3\\envs\\nlp2\\Lib\\site-packages\\sklearn\\linear_model\\_logistic.py:1256: FutureWarning: 'multi_class' was deprecated in version 1.5 and will be removed in 1.7. Use OneVsRestClassifier(LogisticRegression(..)) instead. Leave it to its default value to avoid this warning.\n",
      "  warnings.warn(\n"
     ]
    },
    {
     "name": "stdout",
     "output_type": "stream",
     "text": [
      "Test accuracy with whole Train dataset: 0.9207\n"
     ]
    }
   ],
   "source": [
    "log_reg = LogisticRegression(solver='lbfgs', multi_class='ovr', max_iter=1500)\n",
    "log_reg.fit(X_train, y_train)\n",
    "y_hat = log_reg.predict(X_test)\n",
    "accuracy_whole_dataset = accuracy_score(y_test, y_hat)\n",
    "print(f\"Test accuracy with whole Train dataset: {accuracy_whole_dataset:.4f}\")"
   ]
  },
  {
   "cell_type": "markdown",
   "id": "04d554ee-a2d0-4f3e-b5d8-b6b793fa4e78",
   "metadata": {},
   "source": [
    "# Train a Logistic Regressor on 100 data points"
   ]
  },
  {
   "cell_type": "code",
   "execution_count": 1,
   "id": "edc488bc0114f93f",
   "metadata": {},
   "outputs": [
    {
     "ename": "NameError",
     "evalue": "name 'np' is not defined",
     "output_type": "error",
     "traceback": [
      "\u001b[1;31m---------------------------------------------------------------------------\u001b[0m",
      "\u001b[1;31mNameError\u001b[0m                                 Traceback (most recent call last)",
      "Cell \u001b[1;32mIn[1], line 2\u001b[0m\n\u001b[0;32m      1\u001b[0m n_initial \u001b[38;5;241m=\u001b[39m \u001b[38;5;241m100\u001b[39m\n\u001b[1;32m----> 2\u001b[0m initial_idx \u001b[38;5;241m=\u001b[39m \u001b[43mnp\u001b[49m\u001b[38;5;241m.\u001b[39mrandom\u001b[38;5;241m.\u001b[39mchoice(\u001b[38;5;28mrange\u001b[39m(\u001b[38;5;28mlen\u001b[39m(X_train)), size\u001b[38;5;241m=\u001b[39mn_initial, replace\u001b[38;5;241m=\u001b[39m\u001b[38;5;28;01mFalse\u001b[39;00m)\n\u001b[0;32m      3\u001b[0m X_initial \u001b[38;5;241m=\u001b[39m X_train[initial_idx]\n\u001b[0;32m      4\u001b[0m y_initial \u001b[38;5;241m=\u001b[39m y_train[initial_idx]\n",
      "\u001b[1;31mNameError\u001b[0m: name 'np' is not defined"
     ]
    }
   ],
   "source": [
    "n_initial = 100\n",
    "initial_idx = np.random.choice(range(len(X_train)), size=n_initial, replace=False)\n",
    "X_initial = X_train[initial_idx]\n",
    "y_initial = y_train[initial_idx]\n",
    "\n",
    "log_reg = LogisticRegression(solver='liblinear', multi_class='ovr', max_iter=1000)\n",
    "log_reg.fit(X_initial, y_initial)\n",
    "y_pred_small = log_reg.predict(X_test)\n",
    "accuracy_small = accuracy_score(y_test, y_pred_small)\n",
    "print(f\"Test accuracy with small dataset: {accuracy_small:.4f}\")"
   ]
  }
 ],
 "metadata": {
  "kernelspec": {
   "display_name": "Python 3 (ipykernel)",
   "language": "python",
   "name": "python3"
  },
  "language_info": {
   "codemirror_mode": {
    "name": "ipython",
    "version": 3
   },
   "file_extension": ".py",
   "mimetype": "text/x-python",
   "name": "python",
   "nbconvert_exporter": "python",
   "pygments_lexer": "ipython3",
   "version": "3.12.8"
  }
 },
 "nbformat": 4,
 "nbformat_minor": 5
}
